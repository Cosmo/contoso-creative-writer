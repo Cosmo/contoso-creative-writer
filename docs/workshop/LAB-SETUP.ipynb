{
 "cells": [
  {
   "cell_type": "markdown",
   "metadata": {},
   "source": [
    "## Part 1: Setting Up\n",
    "\n",
    "✨This is a Jupyter Notebook that allows you to run Python code interactively 🐍✨\n",
    "\n",
    "1. Click the **Select Kernel** button on the top right of the notebook.\n",
    "2. Choose **Python environments** and select **Python 3.11**.\n",
    "\n",
    "Note: To run the code in the cells of this notebook click the play button (▶️) on the left side of the cells that contain code. \n",
    "\n",
    "These are instructions for the insructor led AI Tour session, you should have the Skillable Lab Manual open in a different tab.\n",
    "\n",
    "Copy/Paste the `CREDENTIALS` block at the top of the Skillable Lab instructions below:"
   ]
  },
  {
   "cell_type": "code",
   "execution_count": 1,
   "metadata": {},
   "outputs": [],
   "source": [
    "# CREDENTIALS\n",
    "Username     = \"User1-45107480@LODSPRODMCA.onmicrosoft.com\"\n",
    "Password     = \"a!BndJK29!\"\n",
    "AzureEnvName = \"AITOUR45107480\"\n",
    "Subscription = \"8944b7a1-b3c2-466e-b827-8ebadb7e9fcb\""
   ]
  },
  {
   "cell_type": "markdown",
   "metadata": {},
   "source": [
    "### a. Login to GitHub.com and fork repository\n",
    "\n",
    "We'll begin by logging into the Github CLI so we can fork the repository and make changes to the code comfortably."
   ]
  },
  {
   "cell_type": "markdown",
   "metadata": {},
   "source": [
    "> Running this command will:\n",
    ">   - Log in to the **GitHub.com** account\n",
    ">   - Select **HTTPS** as the preferred protocol for Git operations\n",
    ">   - Authenticate Git with your GitHub credentials\n",
    ">   - Authenticate GitHub CLI using **a web browser**\n",
    "\n",
    "Click the play button to the left of the cell to run it and then complete the authorization process. "
   ]
  },
  {
   "cell_type": "code",
   "execution_count": 2,
   "metadata": {},
   "outputs": [
    {
     "name": "stdout",
     "output_type": "stream",
     "text": [
      "\n",
      "\u001b[0;33m!\u001b[0m First copy your one-time code: \u001b[0;1;39mDE7A-7B75\u001b[0m\n",
      "\u001b[0;1;39mOpen this URL\u001b[0m to continue in your web browser: https://github.com/login/device\n",
      "\u001b[0;32m✓\u001b[0m Authentication complete.\n",
      "- gh config set -h github.com git_protocol https\n",
      "\u001b[0;32m✓\u001b[0m Configured git protocol\n",
      "\u001b[0;33m!\u001b[0m Authentication credentials saved in plain text\n",
      "\u001b[0;32m✓\u001b[0m Logged in as \u001b[0;1;39mCosmo\u001b[0m\n"
     ]
    }
   ],
   "source": [
    "! echo Y | GITHUB_TOKEN=\"\" gh auth login --hostname github.com --git-protocol https --web --scopes workflow "
   ]
  },
  {
   "cell_type": "markdown",
   "metadata": {},
   "source": [
    "Then fork the repository"
   ]
  },
  {
   "cell_type": "code",
   "execution_count": 3,
   "metadata": {},
   "outputs": [
    {
     "name": "stdout",
     "output_type": "stream",
     "text": [
      "\u001b[K\u001b[0;33m!\u001b[0m \u001b[0;1;39mCosmo/contoso-creative-writer\u001b[0m already exists\n",
      "\u001b[0;32m✓\u001b[0m Added remote \u001b[0;1;39morigin\u001b[0m\n"
     ]
    }
   ],
   "source": [
    "! GITHUB_TOKEN=\"\" gh repo fork --remote"
   ]
  },
  {
   "cell_type": "markdown",
   "metadata": {},
   "source": [
    "### b. Login to Azure\n",
    "\n",
    "We will login to Azure Developer CLI (azd) and Azure CLI (az).\n",
    "\n",
    "1. Sign in to Azure Developer CLI (azd)"
   ]
  },
  {
   "cell_type": "code",
   "execution_count": 4,
   "metadata": {},
   "outputs": [
    {
     "name": "stdout",
     "output_type": "stream",
     "text": [
      "\u001b[93mAuthentication with username and password in the command line is strongly discouraged. Use one of the recommended authentication methods based on your requirements. For more details, see https://go.microsoft.com/fwlink/?linkid=2276314\u001b[0m\n",
      "[\n",
      "  {\n",
      "    \"cloudName\": \"AzureCloud\",\n",
      "    \"homeTenantId\": \"4cfe372a-37a4-44f8-91b2-5faf34253c62\",\n",
      "    \"id\": \"8944b7a1-b3c2-466e-b827-8ebadb7e9fcb\",\n",
      "    \"isDefault\": true,\n",
      "    \"managedByTenants\": [],\n",
      "    \"name\": \"AIDay-lod49776210\",\n",
      "    \"state\": \"Enabled\",\n",
      "    \"tenantDefaultDomain\": \"LODSPRODMCA.onmicrosoft.com\",\n",
      "    \"tenantDisplayName\": \"LODS-Prod-MCA\",\n",
      "    \"tenantId\": \"4cfe372a-37a4-44f8-91b2-5faf34253c62\",\n",
      "    \"user\": {\n",
      "      \"name\": \"User1-45107480@LODSPRODMCA.onmicrosoft.com\",\n",
      "      \"type\": \"user\"\n",
      "    }\n",
      "  }\n",
      "]\n",
      "\u001b[0m"
     ]
    }
   ],
   "source": [
    "! az login -u $Username -p $Password"
   ]
  },
  {
   "cell_type": "markdown",
   "metadata": {},
   "source": [
    "2. Sign in to Azure Developer CLI. \n",
    "\n",
    "    > **🚧 IMPORTANT**: Use the following `username` and `password` when prompted to sign in with an email and password."
   ]
  },
  {
   "cell_type": "code",
   "execution_count": 9,
   "metadata": {},
   "outputs": [
    {
     "data": {
      "text/markdown": [
       "- **Username**: `User1-45107480@LODSPRODMCA.onmicrosoft.com`\n",
       " - **Password**: `a!BndJK29!`"
      ],
      "text/plain": [
       "<IPython.core.display.Markdown object>"
      ]
     },
     "execution_count": 9,
     "metadata": {},
     "output_type": "execute_result"
    }
   ],
   "source": [
    "from IPython.display import Markdown\n",
    "Markdown(f\"- **Username**: `{Username}`\\n - **Password**: `{Password}`\")"
   ]
  },
  {
   "cell_type": "code",
   "execution_count": 10,
   "metadata": {},
   "outputs": [
    {
     "name": "stdout",
     "output_type": "stream",
     "text": [
      "Start by copying the next code: \u001b[1mLKTJKJSK3\u001b[0m\n",
      "Then, go to: https://microsoft.com/devicelogin\n",
      "Waiting for you to complete authentication in the browser...\n",
      "^C\n"
     ]
    }
   ],
   "source": [
    "! azd auth login --use-device-code --no-prompt"
   ]
  },
  {
   "cell_type": "markdown",
   "metadata": {},
   "source": [
    "3.  Next we will get the environment variables for your resource group.\n",
    "\n",
    "    > **🚧 IMPORTANT**: You will need to run the output of the next cell **in the terminal!**\n",
    "    > \n",
    "    > - Run the cell below and then copy the output and paste it in the terminal and press enter\n",
    "    > - Select `Y` when asked if you'd like to create the environment \n",
    "    > - Press enter to select the default subscription\n",
    "    > - Select `Canada East` as the location \n",
    "\n",
    "    > **It's important that you select the correct location (Canada East)**"
   ]
  },
  {
   "cell_type": "code",
   "execution_count": 11,
   "metadata": {},
   "outputs": [
    {
     "data": {
      "text/markdown": [
       "azd env refresh -e AITOUR45107480"
      ],
      "text/plain": [
       "<IPython.core.display.Markdown object>"
      ]
     },
     "execution_count": 11,
     "metadata": {},
     "output_type": "execute_result"
    }
   ],
   "source": [
    "from IPython.display import Markdown\n",
    "Markdown(f\"azd env refresh -e {AzureEnvName}\")"
   ]
  },
  {
   "cell_type": "markdown",
   "metadata": {},
   "source": [
    "Once the command has been successfully run, continue with step 4, running the cells in the notebook as before. "
   ]
  },
  {
   "cell_type": "markdown",
   "metadata": {},
   "source": [
    "4. Save the environment variables to a .env file. "
   ]
  },
  {
   "cell_type": "code",
   "execution_count": 8,
   "metadata": {},
   "outputs": [],
   "source": [
    "! azd env get-values > ../../.env"
   ]
  },
  {
   "cell_type": "markdown",
   "metadata": {},
   "source": [
    "The refreshed environment variables should have been saved to the [.env](../../.env)"
   ]
  },
  {
   "cell_type": "markdown",
   "metadata": {},
   "source": [
    "5. Set the correct roles by running the roles bash script. "
   ]
  },
  {
   "cell_type": "code",
   "execution_count": null,
   "metadata": {},
   "outputs": [],
   "source": [
    "! bash ../../infra/hooks/roles.sh"
   ]
  },
  {
   "cell_type": "markdown",
   "metadata": {},
   "source": [
    "6. Run the postprovision script by running the cell below\n",
    "    - This script will take about 3 mins to run. "
   ]
  },
  {
   "cell_type": "code",
   "execution_count": null,
   "metadata": {},
   "outputs": [],
   "source": [
    "! echo 1 | azd hooks run postprovision -e $AzureEnvName"
   ]
  },
  {
   "cell_type": "markdown",
   "metadata": {},
   "source": [
    "You are now ready to start understanding and building Contoso Creative Writer! \n",
    " \n",
    "## Part 2: Understanding and Building Contoso Creative Writer\n",
    "\n",
    "### Learning Outcomes\n",
    "In this section we will focus on four key outcomes, each split into their own notebook:\n",
    "\n",
    "1. [Understanding agents and prompt engineering with Prompty.](./workshop-1-intro.ipynb)\n",
    "2. [Utilizing Prompty tracing for debugging and observability.](./workshop-2-tracing.ipynb)\n",
    "3. [Building and running Contoso Creative Writer.](./workshop-3-build.ipynb)\n",
    "4. [Setting up automated evaluations with GitHub Actions.](./workshop-4-ci-cd.ipynb)\n",
    "\n",
    "Open the [workshop-1-intro.ipynb](workshop-1-intro.ipynb) file to begin the first learning outcome!  \n"
   ]
  }
 ],
 "metadata": {
  "kernelspec": {
   "display_name": "Python 3",
   "language": "python",
   "name": "python3"
  },
  "language_info": {
   "codemirror_mode": {
    "name": "ipython",
    "version": 3
   },
   "file_extension": ".py",
   "mimetype": "text/x-python",
   "name": "python",
   "nbconvert_exporter": "python",
   "pygments_lexer": "ipython3",
   "version": "3.11.10"
  }
 },
 "nbformat": 4,
 "nbformat_minor": 2
}
